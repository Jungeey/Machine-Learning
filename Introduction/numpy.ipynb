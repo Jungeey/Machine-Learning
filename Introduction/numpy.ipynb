{
  "cells": [
    {
      "cell_type": "markdown",
      "metadata": {
        "id": "F8FmRLmWrvPF"
      },
      "source": [
        "**Introduction to NumPy**\n",
        "\n",
        "What we will cover?\n",
        "\n",
        "\n",
        "*   Creating arrays\n",
        "*   Multidimensional array\n",
        "*   Randomly generated arrays\n",
        "*   Element wise Operations\n",
        "*   Summarizing Operations\n",
        "\n",
        "\n"
      ]
    },
    {
      "cell_type": "markdown",
      "metadata": {
        "id": "YPzaXbxKw3Xb"
      },
      "source": [
        "# Single Dimensional Array"
      ]
    },
    {
      "cell_type": "code",
      "execution_count": 1,
      "metadata": {
        "id": "XPJPmnK5sYPJ"
      },
      "outputs": [],
      "source": [
        "import numpy as np"
      ]
    },
    {
      "cell_type": "code",
      "execution_count": 2,
      "metadata": {
        "colab": {
          "base_uri": "https://localhost:8080/"
        },
        "id": "oXj1X9RYsx4b",
        "outputId": "deb2c848-ec13-4561-a3f8-782993b0deda"
      },
      "outputs": [
        {
          "data": {
            "text/plain": [
              "array([0., 0., 0., 0., 0.])"
            ]
          },
          "execution_count": 2,
          "metadata": {},
          "output_type": "execute_result"
        }
      ],
      "source": [
        "# Create an array with all value initialized with 0\n",
        "np.zeros(5)\n"
      ]
    },
    {
      "cell_type": "code",
      "execution_count": 3,
      "metadata": {
        "colab": {
          "base_uri": "https://localhost:8080/"
        },
        "id": "Eoba9P2rtgSF",
        "outputId": "451911ec-805b-4db7-e619-846db7e0beb8"
      },
      "outputs": [
        {
          "data": {
            "text/plain": [
              "array([1., 1., 1., 1., 1.])"
            ]
          },
          "execution_count": 3,
          "metadata": {},
          "output_type": "execute_result"
        }
      ],
      "source": [
        "# Create an array with all value initialized with 1\n",
        "np.ones(5)"
      ]
    },
    {
      "cell_type": "code",
      "execution_count": 4,
      "metadata": {
        "colab": {
          "base_uri": "https://localhost:8080/"
        },
        "id": "SPbJYmkGtsFx",
        "outputId": "9daa1c80-e730-4e40-d20a-12a85567e6d3"
      },
      "outputs": [
        {
          "data": {
            "text/plain": [
              "array([3, 3, 3, 3, 3, 3, 3, 3, 3, 3])"
            ]
          },
          "execution_count": 4,
          "metadata": {},
          "output_type": "execute_result"
        }
      ],
      "source": [
        "# Create an array of size 10 with all elements 3\n",
        "np.full(10, 3)"
      ]
    },
    {
      "cell_type": "code",
      "execution_count": 5,
      "metadata": {
        "colab": {
          "base_uri": "https://localhost:8080/"
        },
        "id": "w_K8SyhQt9Hl",
        "outputId": "352801c7-2c4f-4c8d-aa50-132049e8d17e"
      },
      "outputs": [
        {
          "data": {
            "text/plain": [
              "array([1, 2, 3, 4, 5])"
            ]
          },
          "execution_count": 5,
          "metadata": {},
          "output_type": "execute_result"
        }
      ],
      "source": [
        "# Create an array with diifferent elements\n",
        "np.array([1, 2, 3, 4, 5])"
      ]
    },
    {
      "cell_type": "code",
      "execution_count": 6,
      "metadata": {
        "colab": {
          "base_uri": "https://localhost:8080/"
        },
        "id": "7dYAkKGXvRQ6",
        "outputId": "3cc5c6bd-d6dc-4147-8d32-06b9c17d561d"
      },
      "outputs": [
        {
          "data": {
            "text/plain": [
              "array([3, 4, 5, 6, 7, 8, 9])"
            ]
          },
          "execution_count": 6,
          "metadata": {},
          "output_type": "execute_result"
        }
      ],
      "source": [
        "# Create an array with range\n",
        "np.arange(3, 10)"
      ]
    },
    {
      "cell_type": "code",
      "execution_count": 7,
      "metadata": {
        "colab": {
          "base_uri": "https://localhost:8080/"
        },
        "id": "mL7_uHoUv9cU",
        "outputId": "1edc367d-feb3-4439-de94-80d1433e04ee"
      },
      "outputs": [
        {
          "data": {
            "text/plain": [
              "array([  0.,  10.,  20.,  30.,  40.,  50.,  60.,  70.,  80.,  90., 100.])"
            ]
          },
          "execution_count": 7,
          "metadata": {},
          "output_type": "execute_result"
        }
      ],
      "source": [
        "# Create an array with evenly spaced numbers within a specified range\n",
        "np.linspace(0,100,11)"
      ]
    },
    {
      "cell_type": "markdown",
      "metadata": {
        "id": "6V7WQ82Mw5PJ"
      },
      "source": [
        "# Multidimensional array"
      ]
    },
    {
      "cell_type": "code",
      "execution_count": 8,
      "metadata": {
        "colab": {
          "base_uri": "https://localhost:8080/"
        },
        "id": "B0F1gVQ2xQM5",
        "outputId": "8e221bff-86bf-4662-9b73-a297d48879dd"
      },
      "outputs": [
        {
          "data": {
            "text/plain": [
              "array([[0., 0., 0.],\n",
              "       [0., 0., 0.],\n",
              "       [0., 0., 0.]])"
            ]
          },
          "execution_count": 8,
          "metadata": {},
          "output_type": "execute_result"
        }
      ],
      "source": [
        "# create an 3*3 array with all elements initialized with 0\n",
        "np.zeros((3, 3))"
      ]
    },
    {
      "cell_type": "code",
      "execution_count": 9,
      "metadata": {
        "colab": {
          "base_uri": "https://localhost:8080/"
        },
        "id": "JuU5VEJ5yOKC",
        "outputId": "73559c2a-e7e3-47c4-d1f5-e650aad4c6ed"
      },
      "outputs": [
        {
          "data": {
            "text/plain": [
              "array([[1., 1., 1.],\n",
              "       [1., 1., 1.],\n",
              "       [1., 1., 1.]])"
            ]
          },
          "execution_count": 9,
          "metadata": {},
          "output_type": "execute_result"
        }
      ],
      "source": [
        "# create an 3*3 array with all elements initialized with 1\n",
        "np.ones((3,3))"
      ]
    },
    {
      "cell_type": "code",
      "execution_count": 10,
      "metadata": {
        "colab": {
          "base_uri": "https://localhost:8080/"
        },
        "id": "MLmkqArOyTiA",
        "outputId": "c0fdb003-9cc1-4579-d180-464263214f24"
      },
      "outputs": [
        {
          "name": "stdout",
          "output_type": "stream",
          "text": [
            "[[1 2 4]\n",
            " [4 5 6]\n",
            " [7 8 9]]\n"
          ]
        }
      ],
      "source": [
        "# create an 3*3 array with elements 1 to 9\n",
        "arr=np.array([[1, 2, 4],\n",
        "          [4, 5, 6],\n",
        "          [7, 8, 9]])\n",
        "print(arr)"
      ]
    },
    {
      "cell_type": "code",
      "execution_count": 11,
      "metadata": {
        "colab": {
          "base_uri": "https://localhost:8080/"
        },
        "id": "R2ajMnyt0Oxl",
        "outputId": "5c89e2bb-a268-4ea4-b4c3-431f1275465d"
      },
      "outputs": [
        {
          "name": "stdout",
          "output_type": "stream",
          "text": [
            "[[ 1 20  4]\n",
            " [ 4  5  6]\n",
            " [ 7  8  9]]\n"
          ]
        }
      ],
      "source": [
        "# Replacing array variable\n",
        "arr[0][1]=20\n",
        "print(arr)"
      ]
    },
    {
      "cell_type": "code",
      "execution_count": 12,
      "metadata": {
        "colab": {
          "base_uri": "https://localhost:8080/"
        },
        "id": "O-7849su0gdE",
        "outputId": "37f411bb-2508-4cb0-973a-9616a83040e8"
      },
      "outputs": [
        {
          "name": "stdout",
          "output_type": "stream",
          "text": [
            "[[ 1 20  4]\n",
            " [ 4  5  6]\n",
            " [ 1  1  1]]\n"
          ]
        }
      ],
      "source": [
        "# Replacing whole row with value 1\n",
        "arr[2:]=1\n",
        "print(arr)"
      ]
    },
    {
      "cell_type": "code",
      "execution_count": 13,
      "metadata": {
        "colab": {
          "base_uri": "https://localhost:8080/"
        },
        "id": "E9rJJ4tf0-KQ",
        "outputId": "80c8da51-b267-4635-ea61-7917b0948492"
      },
      "outputs": [
        {
          "name": "stdout",
          "output_type": "stream",
          "text": [
            "[[ 1 20  2]\n",
            " [ 4  5  2]\n",
            " [ 1  1  2]]\n"
          ]
        }
      ],
      "source": [
        "# Replacing whole Row\n",
        "arr[:, 2]=[2,2,2]\n",
        "print(arr)"
      ]
    },
    {
      "cell_type": "code",
      "execution_count": 14,
      "metadata": {
        "colab": {
          "base_uri": "https://localhost:8080/"
        },
        "id": "NaX-7Zea1wzM",
        "outputId": "1293f982-42df-4ed0-fea7-b51b4569d23e"
      },
      "outputs": [
        {
          "data": {
            "text/plain": [
              "array([[10, 10, 10],\n",
              "       [10, 10, 10],\n",
              "       [10, 10, 10]])"
            ]
          },
          "execution_count": 14,
          "metadata": {},
          "output_type": "execute_result"
        }
      ],
      "source": [
        "# Initializing array with all element value 1\n",
        "np.full((3,3),10)"
      ]
    },
    {
      "cell_type": "markdown",
      "metadata": {
        "id": "n2MN11gV2aNi"
      },
      "source": [
        "# Randomly generated arrays\n",
        "\n",
        "- NumPy can create arrays filled with random numbers.\n",
        "- To ensure the reproducibility, you can seed ``` np.random.seed()``` . It will generate the exact same random numbers for each executions.\n",
        "- If you rmremove or chnage the seed values, the sequence of random numbers will be changed."
      ]
    },
    {
      "cell_type": "code",
      "execution_count": 15,
      "metadata": {
        "colab": {
          "base_uri": "https://localhost:8080/"
        },
        "id": "aI0Mf-NO2f_2",
        "outputId": "b2c1567f-10f2-4d40-852b-8face81984b2"
      },
      "outputs": [
        {
          "data": {
            "text/plain": [
              "array([0.18458679, 0.94312778, 0.81021889, 0.07311162, 0.68903542])"
            ]
          },
          "execution_count": 15,
          "metadata": {},
          "output_type": "execute_result"
        }
      ],
      "source": [
        "# Create an array with random elements\n",
        "np.random.rand(5)"
      ]
    },
    {
      "cell_type": "code",
      "execution_count": 16,
      "metadata": {
        "colab": {
          "base_uri": "https://localhost:8080/"
        },
        "id": "CC7OKiYt3R1x",
        "outputId": "457e6a5d-4537-4c6a-eff3-6e727aa348e6"
      },
      "outputs": [
        {
          "data": {
            "text/plain": [
              "array([0.77132064, 0.02075195, 0.63364823, 0.74880388, 0.49850701])"
            ]
          },
          "execution_count": 16,
          "metadata": {},
          "output_type": "execute_result"
        }
      ],
      "source": [
        "# Using seed and creating array with random elements\n",
        "np.random.seed(10)\n",
        "np.random.rand(5)"
      ]
    },
    {
      "cell_type": "code",
      "execution_count": 17,
      "metadata": {
        "colab": {
          "base_uri": "https://localhost:8080/"
        },
        "id": "vhyEt2i94IQX",
        "outputId": "9fe0ceaf-b04c-460a-8fcb-dd1eecd55d05"
      },
      "outputs": [
        {
          "data": {
            "text/plain": [
              "array([[-0.66437971, -0.60555494],\n",
              "       [-0.65099088,  0.51256776],\n",
              "       [ 0.26238882, -0.58273165],\n",
              "       [ 1.36842193,  0.05336866],\n",
              "       [ 1.49057364,  0.75636693]])"
            ]
          },
          "execution_count": 17,
          "metadata": {},
          "output_type": "execute_result"
        }
      ],
      "source": [
        "# Creating an 5*2 array with normal random\n",
        "np.random.randn(5,2)"
      ]
    },
    {
      "cell_type": "code",
      "execution_count": 18,
      "metadata": {
        "colab": {
          "base_uri": "https://localhost:8080/"
        },
        "id": "v-KWkK3F49E7",
        "outputId": "de42b010-d92b-42e9-9278-d11be428d495"
      },
      "outputs": [
        {
          "data": {
            "text/plain": [
              "2"
            ]
          },
          "execution_count": 18,
          "metadata": {},
          "output_type": "execute_result"
        }
      ],
      "source": [
        "# Picks random initeger from given range\n",
        "np.random.randint(1,10)"
      ]
    },
    {
      "cell_type": "code",
      "execution_count": 19,
      "metadata": {
        "colab": {
          "base_uri": "https://localhost:8080/"
        },
        "id": "89eGdi3c5McL",
        "outputId": "46b924ac-115c-4e8f-8301-33de73d66b0c"
      },
      "outputs": [
        {
          "data": {
            "text/plain": [
              "array([[51, 54],\n",
              "       [77, 69],\n",
              "       [13, 25],\n",
              "       [13, 92],\n",
              "       [86, 30]])"
            ]
          },
          "execution_count": 19,
          "metadata": {},
          "output_type": "execute_result"
        }
      ],
      "source": [
        "# Create an array of 5*2 with randomly generated element from given range\n",
        "np.random.randint(low=0, high=100, size=(5,2))"
      ]
    },
    {
      "cell_type": "markdown",
      "metadata": {
        "id": "hQ9MsLAFF6mN"
      },
      "source": [
        "# Element Wise Operation on entire arrays element by element"
      ]
    },
    {
      "cell_type": "code",
      "execution_count": 20,
      "metadata": {
        "colab": {
          "base_uri": "https://localhost:8080/"
        },
        "id": "v43Gu0dpGCHB",
        "outputId": "ea800700-9783-476a-bccd-48413456f4d8"
      },
      "outputs": [
        {
          "name": "stdout",
          "output_type": "stream",
          "text": [
            "[0 1 2 3 4]\n"
          ]
        }
      ],
      "source": [
        "a=np.arange(5)\n",
        "print(a)"
      ]
    },
    {
      "cell_type": "code",
      "execution_count": 21,
      "metadata": {
        "colab": {
          "base_uri": "https://localhost:8080/"
        },
        "id": "n8foXVI4GTeu",
        "outputId": "1e3d5789-9868-4344-877f-69130d7444ae"
      },
      "outputs": [
        {
          "name": "stdout",
          "output_type": "stream",
          "text": [
            "[10 12 14 16 18]\n"
          ]
        }
      ],
      "source": [
        "b=(10+ (a*2))\n",
        "print(b)"
      ]
    },
    {
      "cell_type": "code",
      "execution_count": 22,
      "metadata": {
        "colab": {
          "base_uri": "https://localhost:8080/"
        },
        "id": "31eEcCFmGcE1",
        "outputId": "ba711323-de70-465b-a334-2b7cd6427bab"
      },
      "outputs": [
        {
          "name": "stdout",
          "output_type": "stream",
          "text": [
            "[False False False False False]\n",
            "[False False False False False]\n",
            "[ True  True  True  True  True]\n",
            "[False False False False False]\n",
            "[ True  True  True  True  True]\n",
            "[False False  True  True  True]\n"
          ]
        }
      ],
      "source": [
        "#Comparison Operations\n",
        "print(a==b)\n",
        "print(a>b)\n",
        "print(a<b)\n",
        "print(a>=b)\n",
        "print(a<=b)\n",
        "print(a>=2)"
      ]
    },
    {
      "cell_type": "code",
      "execution_count": 23,
      "metadata": {
        "colab": {
          "base_uri": "https://localhost:8080/"
        },
        "id": "IXKFK08LHcAs",
        "outputId": "f70b3118-ff19-4181-ad6c-e7aa0c4c8ee4"
      },
      "outputs": [
        {
          "name": "stdout",
          "output_type": "stream",
          "text": [
            "1.4142135623730951\n",
            "0\n",
            "4\n",
            "10\n"
          ]
        }
      ],
      "source": [
        "# Sumarizing of the data\n",
        "# Numpy provides fucntions for sumarizing array data\n",
        "\n",
        "print(a.std())\n",
        "print(a.min())\n",
        "print(a.max())\n",
        "print(a.sum())"
      ]
    }
  ],
  "metadata": {
    "colab": {
      "authorship_tag": "ABX9TyNDlk5SV5s5ZvLHB45Z/yMy",
      "include_colab_link": true,
      "provenance": [],
      "toc_visible": true
    },
    "kernelspec": {
      "display_name": "Python 3",
      "name": "python3"
    },
    "language_info": {
      "codemirror_mode": {
        "name": "ipython",
        "version": 3
      },
      "file_extension": ".py",
      "mimetype": "text/x-python",
      "name": "python",
      "nbconvert_exporter": "python",
      "pygments_lexer": "ipython3",
      "version": "3.11.1"
    }
  },
  "nbformat": 4,
  "nbformat_minor": 0
}
